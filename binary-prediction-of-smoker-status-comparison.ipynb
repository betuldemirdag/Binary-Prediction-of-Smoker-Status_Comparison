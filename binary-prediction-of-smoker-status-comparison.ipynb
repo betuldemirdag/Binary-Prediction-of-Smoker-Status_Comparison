{
 "cells": [
  {
   "cell_type": "code",
   "execution_count": 1,
   "id": "f870196b",
   "metadata": {
    "_cell_guid": "b1076dfc-b9ad-4769-8c92-a6c4dae69d19",
    "_uuid": "8f2839f25d086af736a60e9eeb907d3b93b6e0e5",
    "execution": {
     "iopub.execute_input": "2023-11-15T11:40:08.303893Z",
     "iopub.status.busy": "2023-11-15T11:40:08.303487Z",
     "iopub.status.idle": "2023-11-15T11:40:09.323378Z",
     "shell.execute_reply": "2023-11-15T11:40:09.321793Z"
    },
    "papermill": {
     "duration": 1.033389,
     "end_time": "2023-11-15T11:40:09.326380",
     "exception": false,
     "start_time": "2023-11-15T11:40:08.292991",
     "status": "completed"
    },
    "tags": []
   },
   "outputs": [
    {
     "name": "stdout",
     "output_type": "stream",
     "text": [
      "/kaggle/input/playground-series-s3e24/sample_submission.csv\n",
      "/kaggle/input/playground-series-s3e24/train.csv\n",
      "/kaggle/input/playground-series-s3e24/test.csv\n"
     ]
    }
   ],
   "source": [
    "# This Python 3 environment comes with many helpful analytics libraries installed\n",
    "# It is defined by the kaggle/python Docker image: https://github.com/kaggle/docker-python\n",
    "# For example, here's several helpful packages to load\n",
    "\n",
    "import numpy as np # linear algebra\n",
    "import pandas as pd # data processing, CSV file I/O (e.g. pd.read_csv)\n",
    "\n",
    "# Input data files are available in the read-only \"../input/\" directory\n",
    "# For example, running this (by clicking run or pressing Shift+Enter) will list all files under the input directory\n",
    "\n",
    "import os\n",
    "for dirname, _, filenames in os.walk('/kaggle/input'):\n",
    "    for filename in filenames:\n",
    "        print(os.path.join(dirname, filename))\n",
    "\n",
    "# You can write up to 20GB to the current directory (/kaggle/working/) that gets preserved as output when you create a version using \"Save & Run All\" \n",
    "# You can also write temporary files to /kaggle/temp/, but they won't be saved outside of the current session"
   ]
  },
  {
   "cell_type": "code",
   "execution_count": 2,
   "id": "e5d322c5",
   "metadata": {
    "execution": {
     "iopub.execute_input": "2023-11-15T11:40:09.344967Z",
     "iopub.status.busy": "2023-11-15T11:40:09.344267Z",
     "iopub.status.idle": "2023-11-15T11:40:11.193929Z",
     "shell.execute_reply": "2023-11-15T11:40:11.192657Z"
    },
    "papermill": {
     "duration": 1.86208,
     "end_time": "2023-11-15T11:40:11.196820",
     "exception": false,
     "start_time": "2023-11-15T11:40:09.334740",
     "status": "completed"
    },
    "tags": []
   },
   "outputs": [],
   "source": [
    "import seaborn as sns\n",
    "import matplotlib.pyplot as plt"
   ]
  },
  {
   "cell_type": "code",
   "execution_count": 3,
   "id": "b7a82cc2",
   "metadata": {
    "execution": {
     "iopub.execute_input": "2023-11-15T11:40:11.216004Z",
     "iopub.status.busy": "2023-11-15T11:40:11.214959Z",
     "iopub.status.idle": "2023-11-15T11:40:11.221455Z",
     "shell.execute_reply": "2023-11-15T11:40:11.220285Z"
    },
    "papermill": {
     "duration": 0.018916,
     "end_time": "2023-11-15T11:40:11.223973",
     "exception": false,
     "start_time": "2023-11-15T11:40:11.205057",
     "status": "completed"
    },
    "tags": []
   },
   "outputs": [],
   "source": [
    "pd.set_option(\"display.max_columns\", None)\n",
    "pd.set_option(\"display.max_rows\", None)\n",
    "pd.set_option(\"display.float_format\", lambda x: \"%.2f\" % x)\n",
    "pd.set_option(\"display.width\", 500)"
   ]
  },
  {
   "cell_type": "code",
   "execution_count": 4,
   "id": "0887b2e2",
   "metadata": {
    "execution": {
     "iopub.execute_input": "2023-11-15T11:40:11.242453Z",
     "iopub.status.busy": "2023-11-15T11:40:11.241671Z",
     "iopub.status.idle": "2023-11-15T11:40:12.306817Z",
     "shell.execute_reply": "2023-11-15T11:40:12.305430Z"
    },
    "papermill": {
     "duration": 1.07778,
     "end_time": "2023-11-15T11:40:12.310042",
     "exception": false,
     "start_time": "2023-11-15T11:40:11.232262",
     "status": "completed"
    },
    "tags": []
   },
   "outputs": [],
   "source": [
    "test =  pd.read_csv(\"/kaggle/input/playground-series-s3e24/test.csv\")\n",
    "train = pd.read_csv(\"/kaggle/input/playground-series-s3e24/train.csv\")\n",
    "sample = pd.read_csv(\"/kaggle/input/playground-series-s3e24/sample_submission.csv\")"
   ]
  },
  {
   "cell_type": "code",
   "execution_count": 5,
   "id": "461af4c8",
   "metadata": {
    "execution": {
     "iopub.execute_input": "2023-11-15T11:40:12.328096Z",
     "iopub.status.busy": "2023-11-15T11:40:12.327683Z",
     "iopub.status.idle": "2023-11-15T11:40:12.363327Z",
     "shell.execute_reply": "2023-11-15T11:40:12.362301Z"
    },
    "papermill": {
     "duration": 0.047916,
     "end_time": "2023-11-15T11:40:12.366058",
     "exception": false,
     "start_time": "2023-11-15T11:40:12.318142",
     "status": "completed"
    },
    "tags": []
   },
   "outputs": [],
   "source": [
    "train.drop(\"id\", axis = 1, inplace = True)\n",
    "test.drop(\"id\", axis = 1, inplace = True)"
   ]
  },
  {
   "cell_type": "code",
   "execution_count": 6,
   "id": "dbc1baf0",
   "metadata": {
    "execution": {
     "iopub.execute_input": "2023-11-15T11:40:12.386037Z",
     "iopub.status.busy": "2023-11-15T11:40:12.383615Z",
     "iopub.status.idle": "2023-11-15T11:40:12.412942Z",
     "shell.execute_reply": "2023-11-15T11:40:12.411715Z"
    },
    "papermill": {
     "duration": 0.041424,
     "end_time": "2023-11-15T11:40:12.415654",
     "exception": false,
     "start_time": "2023-11-15T11:40:12.374230",
     "status": "completed"
    },
    "tags": []
   },
   "outputs": [
    {
     "data": {
      "text/html": [
       "<div>\n",
       "<style scoped>\n",
       "    .dataframe tbody tr th:only-of-type {\n",
       "        vertical-align: middle;\n",
       "    }\n",
       "\n",
       "    .dataframe tbody tr th {\n",
       "        vertical-align: top;\n",
       "    }\n",
       "\n",
       "    .dataframe thead th {\n",
       "        text-align: right;\n",
       "    }\n",
       "</style>\n",
       "<table border=\"1\" class=\"dataframe\">\n",
       "  <thead>\n",
       "    <tr style=\"text-align: right;\">\n",
       "      <th></th>\n",
       "      <th>age</th>\n",
       "      <th>height(cm)</th>\n",
       "      <th>weight(kg)</th>\n",
       "      <th>waist(cm)</th>\n",
       "      <th>eyesight(left)</th>\n",
       "      <th>eyesight(right)</th>\n",
       "      <th>hearing(left)</th>\n",
       "      <th>hearing(right)</th>\n",
       "      <th>systolic</th>\n",
       "      <th>relaxation</th>\n",
       "      <th>fasting blood sugar</th>\n",
       "      <th>Cholesterol</th>\n",
       "      <th>triglyceride</th>\n",
       "      <th>HDL</th>\n",
       "      <th>LDL</th>\n",
       "      <th>hemoglobin</th>\n",
       "      <th>Urine protein</th>\n",
       "      <th>serum creatinine</th>\n",
       "      <th>AST</th>\n",
       "      <th>ALT</th>\n",
       "      <th>Gtp</th>\n",
       "      <th>dental caries</th>\n",
       "      <th>smoking</th>\n",
       "    </tr>\n",
       "  </thead>\n",
       "  <tbody>\n",
       "    <tr>\n",
       "      <th>0</th>\n",
       "      <td>55</td>\n",
       "      <td>165</td>\n",
       "      <td>60</td>\n",
       "      <td>81.00</td>\n",
       "      <td>0.50</td>\n",
       "      <td>0.60</td>\n",
       "      <td>1</td>\n",
       "      <td>1</td>\n",
       "      <td>135</td>\n",
       "      <td>87</td>\n",
       "      <td>94</td>\n",
       "      <td>172</td>\n",
       "      <td>300</td>\n",
       "      <td>40</td>\n",
       "      <td>75</td>\n",
       "      <td>16.50</td>\n",
       "      <td>1</td>\n",
       "      <td>1.00</td>\n",
       "      <td>22</td>\n",
       "      <td>25</td>\n",
       "      <td>27</td>\n",
       "      <td>0</td>\n",
       "      <td>1</td>\n",
       "    </tr>\n",
       "    <tr>\n",
       "      <th>1</th>\n",
       "      <td>70</td>\n",
       "      <td>165</td>\n",
       "      <td>65</td>\n",
       "      <td>89.00</td>\n",
       "      <td>0.60</td>\n",
       "      <td>0.70</td>\n",
       "      <td>2</td>\n",
       "      <td>2</td>\n",
       "      <td>146</td>\n",
       "      <td>83</td>\n",
       "      <td>147</td>\n",
       "      <td>194</td>\n",
       "      <td>55</td>\n",
       "      <td>57</td>\n",
       "      <td>126</td>\n",
       "      <td>16.20</td>\n",
       "      <td>1</td>\n",
       "      <td>1.10</td>\n",
       "      <td>27</td>\n",
       "      <td>23</td>\n",
       "      <td>37</td>\n",
       "      <td>1</td>\n",
       "      <td>0</td>\n",
       "    </tr>\n",
       "    <tr>\n",
       "      <th>2</th>\n",
       "      <td>20</td>\n",
       "      <td>170</td>\n",
       "      <td>75</td>\n",
       "      <td>81.00</td>\n",
       "      <td>0.40</td>\n",
       "      <td>0.50</td>\n",
       "      <td>1</td>\n",
       "      <td>1</td>\n",
       "      <td>118</td>\n",
       "      <td>75</td>\n",
       "      <td>79</td>\n",
       "      <td>178</td>\n",
       "      <td>197</td>\n",
       "      <td>45</td>\n",
       "      <td>93</td>\n",
       "      <td>17.40</td>\n",
       "      <td>1</td>\n",
       "      <td>0.80</td>\n",
       "      <td>27</td>\n",
       "      <td>31</td>\n",
       "      <td>53</td>\n",
       "      <td>0</td>\n",
       "      <td>1</td>\n",
       "    </tr>\n",
       "    <tr>\n",
       "      <th>3</th>\n",
       "      <td>35</td>\n",
       "      <td>180</td>\n",
       "      <td>95</td>\n",
       "      <td>105.00</td>\n",
       "      <td>1.50</td>\n",
       "      <td>1.20</td>\n",
       "      <td>1</td>\n",
       "      <td>1</td>\n",
       "      <td>131</td>\n",
       "      <td>88</td>\n",
       "      <td>91</td>\n",
       "      <td>180</td>\n",
       "      <td>203</td>\n",
       "      <td>38</td>\n",
       "      <td>102</td>\n",
       "      <td>15.90</td>\n",
       "      <td>1</td>\n",
       "      <td>1.00</td>\n",
       "      <td>20</td>\n",
       "      <td>27</td>\n",
       "      <td>30</td>\n",
       "      <td>1</td>\n",
       "      <td>0</td>\n",
       "    </tr>\n",
       "    <tr>\n",
       "      <th>4</th>\n",
       "      <td>30</td>\n",
       "      <td>165</td>\n",
       "      <td>60</td>\n",
       "      <td>80.50</td>\n",
       "      <td>1.50</td>\n",
       "      <td>1.00</td>\n",
       "      <td>1</td>\n",
       "      <td>1</td>\n",
       "      <td>121</td>\n",
       "      <td>76</td>\n",
       "      <td>91</td>\n",
       "      <td>155</td>\n",
       "      <td>87</td>\n",
       "      <td>44</td>\n",
       "      <td>93</td>\n",
       "      <td>15.40</td>\n",
       "      <td>1</td>\n",
       "      <td>0.80</td>\n",
       "      <td>19</td>\n",
       "      <td>13</td>\n",
       "      <td>17</td>\n",
       "      <td>0</td>\n",
       "      <td>1</td>\n",
       "    </tr>\n",
       "  </tbody>\n",
       "</table>\n",
       "</div>"
      ],
      "text/plain": [
       "   age  height(cm)  weight(kg)  waist(cm)  eyesight(left)  eyesight(right)  hearing(left)  hearing(right)  systolic  relaxation  fasting blood sugar  Cholesterol  triglyceride  HDL  LDL  hemoglobin  Urine protein  serum creatinine  AST  ALT  Gtp  dental caries  smoking\n",
       "0   55         165          60      81.00            0.50             0.60              1               1       135          87                   94          172           300   40   75       16.50              1              1.00   22   25   27              0        1\n",
       "1   70         165          65      89.00            0.60             0.70              2               2       146          83                  147          194            55   57  126       16.20              1              1.10   27   23   37              1        0\n",
       "2   20         170          75      81.00            0.40             0.50              1               1       118          75                   79          178           197   45   93       17.40              1              0.80   27   31   53              0        1\n",
       "3   35         180          95     105.00            1.50             1.20              1               1       131          88                   91          180           203   38  102       15.90              1              1.00   20   27   30              1        0\n",
       "4   30         165          60      80.50            1.50             1.00              1               1       121          76                   91          155            87   44   93       15.40              1              0.80   19   13   17              0        1"
      ]
     },
     "execution_count": 6,
     "metadata": {},
     "output_type": "execute_result"
    }
   ],
   "source": [
    "train.head()"
   ]
  },
  {
   "cell_type": "code",
   "execution_count": 7,
   "id": "7661b98c",
   "metadata": {
    "execution": {
     "iopub.execute_input": "2023-11-15T11:40:12.436124Z",
     "iopub.status.busy": "2023-11-15T11:40:12.435122Z",
     "iopub.status.idle": "2023-11-15T11:40:12.456644Z",
     "shell.execute_reply": "2023-11-15T11:40:12.455410Z"
    },
    "papermill": {
     "duration": 0.034633,
     "end_time": "2023-11-15T11:40:12.459213",
     "exception": false,
     "start_time": "2023-11-15T11:40:12.424580",
     "status": "completed"
    },
    "tags": []
   },
   "outputs": [
    {
     "data": {
      "text/html": [
       "<div>\n",
       "<style scoped>\n",
       "    .dataframe tbody tr th:only-of-type {\n",
       "        vertical-align: middle;\n",
       "    }\n",
       "\n",
       "    .dataframe tbody tr th {\n",
       "        vertical-align: top;\n",
       "    }\n",
       "\n",
       "    .dataframe thead th {\n",
       "        text-align: right;\n",
       "    }\n",
       "</style>\n",
       "<table border=\"1\" class=\"dataframe\">\n",
       "  <thead>\n",
       "    <tr style=\"text-align: right;\">\n",
       "      <th></th>\n",
       "      <th>age</th>\n",
       "      <th>height(cm)</th>\n",
       "      <th>weight(kg)</th>\n",
       "      <th>waist(cm)</th>\n",
       "      <th>eyesight(left)</th>\n",
       "      <th>eyesight(right)</th>\n",
       "      <th>hearing(left)</th>\n",
       "      <th>hearing(right)</th>\n",
       "      <th>systolic</th>\n",
       "      <th>relaxation</th>\n",
       "      <th>fasting blood sugar</th>\n",
       "      <th>Cholesterol</th>\n",
       "      <th>triglyceride</th>\n",
       "      <th>HDL</th>\n",
       "      <th>LDL</th>\n",
       "      <th>hemoglobin</th>\n",
       "      <th>Urine protein</th>\n",
       "      <th>serum creatinine</th>\n",
       "      <th>AST</th>\n",
       "      <th>ALT</th>\n",
       "      <th>Gtp</th>\n",
       "      <th>dental caries</th>\n",
       "    </tr>\n",
       "  </thead>\n",
       "  <tbody>\n",
       "    <tr>\n",
       "      <th>0</th>\n",
       "      <td>40</td>\n",
       "      <td>165</td>\n",
       "      <td>70</td>\n",
       "      <td>84.00</td>\n",
       "      <td>1.20</td>\n",
       "      <td>1.20</td>\n",
       "      <td>1</td>\n",
       "      <td>1</td>\n",
       "      <td>130</td>\n",
       "      <td>89</td>\n",
       "      <td>107</td>\n",
       "      <td>200</td>\n",
       "      <td>186</td>\n",
       "      <td>49</td>\n",
       "      <td>115</td>\n",
       "      <td>14.20</td>\n",
       "      <td>1</td>\n",
       "      <td>0.90</td>\n",
       "      <td>19</td>\n",
       "      <td>25</td>\n",
       "      <td>32</td>\n",
       "      <td>0</td>\n",
       "    </tr>\n",
       "    <tr>\n",
       "      <th>1</th>\n",
       "      <td>80</td>\n",
       "      <td>160</td>\n",
       "      <td>60</td>\n",
       "      <td>93.00</td>\n",
       "      <td>1.00</td>\n",
       "      <td>1.00</td>\n",
       "      <td>2</td>\n",
       "      <td>2</td>\n",
       "      <td>144</td>\n",
       "      <td>72</td>\n",
       "      <td>93</td>\n",
       "      <td>172</td>\n",
       "      <td>158</td>\n",
       "      <td>35</td>\n",
       "      <td>104</td>\n",
       "      <td>13.00</td>\n",
       "      <td>1</td>\n",
       "      <td>1.10</td>\n",
       "      <td>20</td>\n",
       "      <td>12</td>\n",
       "      <td>24</td>\n",
       "      <td>0</td>\n",
       "    </tr>\n",
       "    <tr>\n",
       "      <th>2</th>\n",
       "      <td>60</td>\n",
       "      <td>170</td>\n",
       "      <td>70</td>\n",
       "      <td>86.50</td>\n",
       "      <td>0.60</td>\n",
       "      <td>0.70</td>\n",
       "      <td>1</td>\n",
       "      <td>1</td>\n",
       "      <td>117</td>\n",
       "      <td>75</td>\n",
       "      <td>92</td>\n",
       "      <td>161</td>\n",
       "      <td>173</td>\n",
       "      <td>39</td>\n",
       "      <td>88</td>\n",
       "      <td>15.40</td>\n",
       "      <td>1</td>\n",
       "      <td>1.40</td>\n",
       "      <td>38</td>\n",
       "      <td>60</td>\n",
       "      <td>36</td>\n",
       "      <td>0</td>\n",
       "    </tr>\n",
       "    <tr>\n",
       "      <th>3</th>\n",
       "      <td>40</td>\n",
       "      <td>160</td>\n",
       "      <td>50</td>\n",
       "      <td>67.00</td>\n",
       "      <td>0.30</td>\n",
       "      <td>0.40</td>\n",
       "      <td>1</td>\n",
       "      <td>1</td>\n",
       "      <td>116</td>\n",
       "      <td>62</td>\n",
       "      <td>91</td>\n",
       "      <td>213</td>\n",
       "      <td>47</td>\n",
       "      <td>75</td>\n",
       "      <td>128</td>\n",
       "      <td>14.50</td>\n",
       "      <td>1</td>\n",
       "      <td>0.60</td>\n",
       "      <td>25</td>\n",
       "      <td>18</td>\n",
       "      <td>10</td>\n",
       "      <td>1</td>\n",
       "    </tr>\n",
       "    <tr>\n",
       "      <th>4</th>\n",
       "      <td>40</td>\n",
       "      <td>170</td>\n",
       "      <td>75</td>\n",
       "      <td>89.40</td>\n",
       "      <td>1.00</td>\n",
       "      <td>0.90</td>\n",
       "      <td>1</td>\n",
       "      <td>1</td>\n",
       "      <td>132</td>\n",
       "      <td>94</td>\n",
       "      <td>79</td>\n",
       "      <td>170</td>\n",
       "      <td>100</td>\n",
       "      <td>39</td>\n",
       "      <td>123</td>\n",
       "      <td>16.50</td>\n",
       "      <td>1</td>\n",
       "      <td>1.00</td>\n",
       "      <td>30</td>\n",
       "      <td>39</td>\n",
       "      <td>27</td>\n",
       "      <td>1</td>\n",
       "    </tr>\n",
       "  </tbody>\n",
       "</table>\n",
       "</div>"
      ],
      "text/plain": [
       "   age  height(cm)  weight(kg)  waist(cm)  eyesight(left)  eyesight(right)  hearing(left)  hearing(right)  systolic  relaxation  fasting blood sugar  Cholesterol  triglyceride  HDL  LDL  hemoglobin  Urine protein  serum creatinine  AST  ALT  Gtp  dental caries\n",
       "0   40         165          70      84.00            1.20             1.20              1               1       130          89                  107          200           186   49  115       14.20              1              0.90   19   25   32              0\n",
       "1   80         160          60      93.00            1.00             1.00              2               2       144          72                   93          172           158   35  104       13.00              1              1.10   20   12   24              0\n",
       "2   60         170          70      86.50            0.60             0.70              1               1       117          75                   92          161           173   39   88       15.40              1              1.40   38   60   36              0\n",
       "3   40         160          50      67.00            0.30             0.40              1               1       116          62                   91          213            47   75  128       14.50              1              0.60   25   18   10              1\n",
       "4   40         170          75      89.40            1.00             0.90              1               1       132          94                   79          170           100   39  123       16.50              1              1.00   30   39   27              1"
      ]
     },
     "execution_count": 7,
     "metadata": {},
     "output_type": "execute_result"
    }
   ],
   "source": [
    "test.head()"
   ]
  },
  {
   "cell_type": "code",
   "execution_count": 8,
   "id": "b7f31a22",
   "metadata": {
    "execution": {
     "iopub.execute_input": "2023-11-15T11:40:12.479271Z",
     "iopub.status.busy": "2023-11-15T11:40:12.478854Z",
     "iopub.status.idle": "2023-11-15T11:40:12.486387Z",
     "shell.execute_reply": "2023-11-15T11:40:12.485227Z"
    },
    "papermill": {
     "duration": 0.021088,
     "end_time": "2023-11-15T11:40:12.489184",
     "exception": false,
     "start_time": "2023-11-15T11:40:12.468096",
     "status": "completed"
    },
    "tags": []
   },
   "outputs": [],
   "source": [
    "def data_summary(dataframe):\n",
    "    print(\"############## SHAPE ##############\")\n",
    "    print(dataframe.shape)\n",
    "    print(\"############## TYPES ##############\")\n",
    "    print(dataframe.dtypes)\n",
    "    print(\"############## NULL ##############\")\n",
    "    print(dataframe.isnull().sum())\n",
    "    print(\"############ DESCRIBE ############\")\n",
    "    print(dataframe.describe([0.0, 0.25, 0.50, 0.75, 0.90, 0.95, 0.99]).T)"
   ]
  },
  {
   "cell_type": "code",
   "execution_count": 9,
   "id": "348f017c",
   "metadata": {
    "execution": {
     "iopub.execute_input": "2023-11-15T11:40:12.509179Z",
     "iopub.status.busy": "2023-11-15T11:40:12.508789Z",
     "iopub.status.idle": "2023-11-15T11:40:12.710518Z",
     "shell.execute_reply": "2023-11-15T11:40:12.709243Z"
    },
    "papermill": {
     "duration": 0.215605,
     "end_time": "2023-11-15T11:40:12.713683",
     "exception": false,
     "start_time": "2023-11-15T11:40:12.498078",
     "status": "completed"
    },
    "tags": []
   },
   "outputs": [
    {
     "name": "stdout",
     "output_type": "stream",
     "text": [
      "############## SHAPE ##############\n",
      "(159256, 23)\n",
      "############## TYPES ##############\n",
      "age                      int64\n",
      "height(cm)               int64\n",
      "weight(kg)               int64\n",
      "waist(cm)              float64\n",
      "eyesight(left)         float64\n",
      "eyesight(right)        float64\n",
      "hearing(left)            int64\n",
      "hearing(right)           int64\n",
      "systolic                 int64\n",
      "relaxation               int64\n",
      "fasting blood sugar      int64\n",
      "Cholesterol              int64\n",
      "triglyceride             int64\n",
      "HDL                      int64\n",
      "LDL                      int64\n",
      "hemoglobin             float64\n",
      "Urine protein            int64\n",
      "serum creatinine       float64\n",
      "AST                      int64\n",
      "ALT                      int64\n",
      "Gtp                      int64\n",
      "dental caries            int64\n",
      "smoking                  int64\n",
      "dtype: object\n",
      "############## NULL ##############\n",
      "age                    0\n",
      "height(cm)             0\n",
      "weight(kg)             0\n",
      "waist(cm)              0\n",
      "eyesight(left)         0\n",
      "eyesight(right)        0\n",
      "hearing(left)          0\n",
      "hearing(right)         0\n",
      "systolic               0\n",
      "relaxation             0\n",
      "fasting blood sugar    0\n",
      "Cholesterol            0\n",
      "triglyceride           0\n",
      "HDL                    0\n",
      "LDL                    0\n",
      "hemoglobin             0\n",
      "Urine protein          0\n",
      "serum creatinine       0\n",
      "AST                    0\n",
      "ALT                    0\n",
      "Gtp                    0\n",
      "dental caries          0\n",
      "smoking                0\n",
      "dtype: int64\n",
      "############ DESCRIBE ############\n",
      "                        count   mean   std    min     0%    25%    50%    75%    90%    95%    99%     max\n",
      "age                 159256.00  44.31 11.84  20.00  20.00  40.00  40.00  55.00  60.00  65.00  75.00   85.00\n",
      "height(cm)          159256.00 165.27  8.82 135.00 135.00 160.00 165.00 170.00 175.00 180.00 185.00  190.00\n",
      "weight(kg)          159256.00  67.14 12.59  30.00  30.00  60.00  65.00  75.00  85.00  90.00 100.00  130.00\n",
      "waist(cm)           159256.00  83.00  8.96  51.00  51.00  77.00  83.00  89.00  94.20  98.00 104.00  127.00\n",
      "eyesight(left)      159256.00   1.01  0.40   0.10   0.10   0.80   1.00   1.20   1.50   1.50   1.50    9.90\n",
      "eyesight(right)     159256.00   1.00  0.39   0.10   0.10   0.80   1.00   1.20   1.50   1.50   1.50    9.90\n",
      "hearing(left)       159256.00   1.02  0.15   1.00   1.00   1.00   1.00   1.00   1.00   1.00   2.00    2.00\n",
      "hearing(right)      159256.00   1.02  0.15   1.00   1.00   1.00   1.00   1.00   1.00   1.00   2.00    2.00\n",
      "systolic            159256.00 122.50 12.73  77.00  77.00 114.00 121.00 130.00 139.00 144.00 154.00  213.00\n",
      "relaxation          159256.00  76.87  8.99  44.00  44.00  70.00  78.00  82.00  88.00  91.00 100.00  133.00\n",
      "fasting blood sugar 159256.00  98.35 15.33  46.00  46.00  90.00  96.00 103.00 114.00 122.00 153.00  375.00\n",
      "Cholesterol         159256.00 195.80 28.40  77.00  77.00 175.00 196.00 217.00 231.00 240.00 260.00  393.00\n",
      "triglyceride        159256.00 127.62 66.19   8.00   8.00  77.00 115.00 165.00 216.00 255.00 329.00  766.00\n",
      "HDL                 159256.00  55.85 13.96   9.00   9.00  45.00  54.00  64.00  76.00  83.00  94.00  136.00\n",
      "LDL                 159256.00 114.61 28.16   1.00   1.00  95.00 114.00 133.00 148.00 157.00 174.00 1860.00\n",
      "hemoglobin          159256.00  14.80  1.43   4.90   4.90  13.80  15.00  15.80  16.50  16.80  17.60   21.00\n",
      "Urine protein       159256.00   1.07  0.35   1.00   1.00   1.00   1.00   1.00   1.00   2.00   3.00    6.00\n",
      "serum creatinine    159256.00   0.89  0.18   0.10   0.10   0.80   0.90   1.00   1.10   1.20   1.30    9.90\n",
      "AST                 159256.00  25.52  9.46   6.00   6.00  20.00  24.00  29.00  36.00  41.00  54.00  778.00\n",
      "ALT                 159256.00  26.55 17.75   1.00   1.00  16.00  22.00  32.00  46.00  55.00  81.00 2914.00\n",
      "Gtp                 159256.00  36.22 31.20   2.00   2.00  18.00  27.00  44.00  66.00  88.00 152.00  999.00\n",
      "dental caries       159256.00   0.20  0.40   0.00   0.00   0.00   0.00   0.00   1.00   1.00   1.00    1.00\n",
      "smoking             159256.00   0.44  0.50   0.00   0.00   0.00   0.00   1.00   1.00   1.00   1.00    1.00\n"
     ]
    }
   ],
   "source": [
    "data_summary(train)"
   ]
  },
  {
   "cell_type": "code",
   "execution_count": 10,
   "id": "cd5a204c",
   "metadata": {
    "execution": {
     "iopub.execute_input": "2023-11-15T11:40:12.733761Z",
     "iopub.status.busy": "2023-11-15T11:40:12.733314Z",
     "iopub.status.idle": "2023-11-15T11:40:12.881491Z",
     "shell.execute_reply": "2023-11-15T11:40:12.879742Z"
    },
    "papermill": {
     "duration": 0.161581,
     "end_time": "2023-11-15T11:40:12.884425",
     "exception": false,
     "start_time": "2023-11-15T11:40:12.722844",
     "status": "completed"
    },
    "tags": []
   },
   "outputs": [
    {
     "name": "stdout",
     "output_type": "stream",
     "text": [
      "############## SHAPE ##############\n",
      "(106171, 22)\n",
      "############## TYPES ##############\n",
      "age                      int64\n",
      "height(cm)               int64\n",
      "weight(kg)               int64\n",
      "waist(cm)              float64\n",
      "eyesight(left)         float64\n",
      "eyesight(right)        float64\n",
      "hearing(left)            int64\n",
      "hearing(right)           int64\n",
      "systolic                 int64\n",
      "relaxation               int64\n",
      "fasting blood sugar      int64\n",
      "Cholesterol              int64\n",
      "triglyceride             int64\n",
      "HDL                      int64\n",
      "LDL                      int64\n",
      "hemoglobin             float64\n",
      "Urine protein            int64\n",
      "serum creatinine       float64\n",
      "AST                      int64\n",
      "ALT                      int64\n",
      "Gtp                      int64\n",
      "dental caries            int64\n",
      "dtype: object\n",
      "############## NULL ##############\n",
      "age                    0\n",
      "height(cm)             0\n",
      "weight(kg)             0\n",
      "waist(cm)              0\n",
      "eyesight(left)         0\n",
      "eyesight(right)        0\n",
      "hearing(left)          0\n",
      "hearing(right)         0\n",
      "systolic               0\n",
      "relaxation             0\n",
      "fasting blood sugar    0\n",
      "Cholesterol            0\n",
      "triglyceride           0\n",
      "HDL                    0\n",
      "LDL                    0\n",
      "hemoglobin             0\n",
      "Urine protein          0\n",
      "serum creatinine       0\n",
      "AST                    0\n",
      "ALT                    0\n",
      "Gtp                    0\n",
      "dental caries          0\n",
      "dtype: int64\n",
      "############ DESCRIBE ############\n",
      "                        count   mean   std    min     0%    25%    50%    75%    90%    95%    99%     max\n",
      "age                 106171.00  44.43 11.90  20.00  20.00  40.00  40.00  55.00  60.00  65.00  75.00   85.00\n",
      "height(cm)          106171.00 165.22  8.84 135.00 135.00 160.00 165.00 170.00 175.00 180.00 180.00  190.00\n",
      "weight(kg)          106171.00  67.13 12.59  30.00  30.00  60.00  65.00  75.00  85.00  90.00 100.00  130.00\n",
      "waist(cm)           106171.00  83.00  8.95  51.00  51.00  77.00  83.00  89.00  94.00  98.00 104.10  127.70\n",
      "eyesight(left)      106171.00   1.00  0.40   0.10   0.10   0.80   1.00   1.20   1.50   1.50   1.50    9.90\n",
      "eyesight(right)     106171.00   1.00  0.39   0.10   0.10   0.80   1.00   1.20   1.50   1.50   1.50    9.90\n",
      "hearing(left)       106171.00   1.02  0.15   1.00   1.00   1.00   1.00   1.00   1.00   1.00   2.00    2.00\n",
      "hearing(right)      106171.00   1.02  0.15   1.00   1.00   1.00   1.00   1.00   1.00   1.00   2.00    2.00\n",
      "systolic            106171.00 122.48 12.77  71.00  71.00 114.00 121.00 130.00 138.00 144.00 154.00  213.00\n",
      "relaxation          106171.00  76.82  9.02  40.00  40.00  70.00  78.00  82.00  88.00  91.00 100.00  140.00\n",
      "fasting blood sugar 106171.00  98.40 15.34  46.00  46.00  90.00  96.00 103.00 114.00 122.00 152.00  423.00\n",
      "Cholesterol         106171.00 195.87 28.44  66.00  66.00 175.00 196.00 217.00 231.00 240.00 261.00  369.00\n",
      "triglyceride        106171.00 127.41 66.35   8.00   8.00  77.00 114.00 164.00 217.00 255.00 331.00  548.00\n",
      "HDL                 106171.00  55.92 14.00  18.00  18.00  45.00  54.00  64.00  76.00  83.00  94.00  148.00\n",
      "LDL                 106171.00 114.60 26.94   1.00   1.00  95.00 114.00 133.00 148.00 157.00 174.00 1220.00\n",
      "hemoglobin          106171.00  14.79  1.43   5.00   5.00  13.80  15.00  15.80  16.50  16.80  17.60   21.10\n",
      "Urine protein       106171.00   1.07  0.34   1.00   1.00   1.00   1.00   1.00   1.00   2.00   3.00    6.00\n",
      "serum creatinine    106171.00   0.89  0.18   0.10   0.10   0.80   0.90   1.00   1.10   1.20   1.30    9.90\n",
      "AST                 106171.00  25.56  9.50   6.00   6.00  20.00  24.00  29.00  36.00  41.00  54.00  778.00\n",
      "ALT                 106171.00  26.57 17.94   1.00   1.00  16.00  22.00  33.00  46.00  54.00  81.00 2914.00\n",
      "Gtp                 106171.00  36.09 30.93   2.00   2.00  18.00  27.00  44.00  66.00  86.00 151.00  999.00\n",
      "dental caries       106171.00   0.20  0.40   0.00   0.00   0.00   0.00   0.00   1.00   1.00   1.00    1.00\n"
     ]
    }
   ],
   "source": [
    "data_summary(test)"
   ]
  },
  {
   "cell_type": "code",
   "execution_count": 11,
   "id": "015c480d",
   "metadata": {
    "execution": {
     "iopub.execute_input": "2023-11-15T11:40:12.905457Z",
     "iopub.status.busy": "2023-11-15T11:40:12.905016Z",
     "iopub.status.idle": "2023-11-15T11:40:12.919110Z",
     "shell.execute_reply": "2023-11-15T11:40:12.917911Z"
    },
    "papermill": {
     "duration": 0.02723,
     "end_time": "2023-11-15T11:40:12.921526",
     "exception": false,
     "start_time": "2023-11-15T11:40:12.894296",
     "status": "completed"
    },
    "tags": []
   },
   "outputs": [
    {
     "data": {
      "text/plain": [
       "smoking\n",
       "0    89603\n",
       "1    69653\n",
       "Name: count, dtype: int64"
      ]
     },
     "execution_count": 11,
     "metadata": {},
     "output_type": "execute_result"
    }
   ],
   "source": [
    "train[\"smoking\"].value_counts()"
   ]
  },
  {
   "cell_type": "code",
   "execution_count": 12,
   "id": "11722e78",
   "metadata": {
    "execution": {
     "iopub.execute_input": "2023-11-15T11:40:12.943704Z",
     "iopub.status.busy": "2023-11-15T11:40:12.943251Z",
     "iopub.status.idle": "2023-11-15T11:40:13.750122Z",
     "shell.execute_reply": "2023-11-15T11:40:13.749088Z"
    },
    "papermill": {
     "duration": 0.821483,
     "end_time": "2023-11-15T11:40:13.752526",
     "exception": false,
     "start_time": "2023-11-15T11:40:12.931043",
     "status": "completed"
    },
    "tags": []
   },
   "outputs": [
    {
     "data": {
      "image/png": "[encoded data removed]",
      "text/plain": [
       "<Figure size 640x480 with 2 Axes>"
      ]
     },
     "metadata": {},
     "output_type": "display_data"
    }
   ],
   "source": [
    "corr = train.corr()[[\"smoking\"]]\n",
    "corr.drop(['smoking'], axis=0, inplace=True)\n",
    "sns.heatmap(corr.sort_values(by = \"smoking\", ascending = False), annot = True)\n",
    "plt.title(\"Correlation Matrix\")\n",
    "plt.show()"
   ]
  },
  {
   "cell_type": "code",
   "execution_count": 13,
   "id": "705f6503",
   "metadata": {
    "execution": {
     "iopub.execute_input": "2023-11-15T11:40:13.775920Z",
     "iopub.status.busy": "2023-11-15T11:40:13.775466Z",
     "iopub.status.idle": "2023-11-15T11:40:13.780387Z",
     "shell.execute_reply": "2023-11-15T11:40:13.779196Z"
    },
    "papermill": {
     "duration": 0.019444,
     "end_time": "2023-11-15T11:40:13.782666",
     "exception": false,
     "start_time": "2023-11-15T11:40:13.763222",
     "status": "completed"
    },
    "tags": []
   },
   "outputs": [],
   "source": [
    "columns = train.columns.to_list()\n",
    "columns.remove(\"smoking\")"
   ]
  },
  {
   "cell_type": "code",
   "execution_count": 14,
   "id": "0bfdd0bd",
   "metadata": {
    "execution": {
     "iopub.execute_input": "2023-11-15T11:40:13.806090Z",
     "iopub.status.busy": "2023-11-15T11:40:13.805578Z",
     "iopub.status.idle": "2023-11-15T11:40:13.862064Z",
     "shell.execute_reply": "2023-11-15T11:40:13.861033Z"
    },
    "papermill": {
     "duration": 0.071402,
     "end_time": "2023-11-15T11:40:13.864633",
     "exception": false,
     "start_time": "2023-11-15T11:40:13.793231",
     "status": "completed"
    },
    "tags": []
   },
   "outputs": [
    {
     "data": {
      "text/html": [
       "<div>\n",
       "<style scoped>\n",
       "    .dataframe tbody tr th:only-of-type {\n",
       "        vertical-align: middle;\n",
       "    }\n",
       "\n",
       "    .dataframe tbody tr th {\n",
       "        vertical-align: top;\n",
       "    }\n",
       "\n",
       "    .dataframe thead th {\n",
       "        text-align: right;\n",
       "    }\n",
       "</style>\n",
       "<table border=\"1\" class=\"dataframe\">\n",
       "  <thead>\n",
       "    <tr style=\"text-align: right;\">\n",
       "      <th></th>\n",
       "      <th>age</th>\n",
       "      <th>height(cm)</th>\n",
       "      <th>weight(kg)</th>\n",
       "      <th>waist(cm)</th>\n",
       "      <th>eyesight(left)</th>\n",
       "      <th>eyesight(right)</th>\n",
       "      <th>hearing(left)</th>\n",
       "      <th>hearing(right)</th>\n",
       "      <th>systolic</th>\n",
       "      <th>relaxation</th>\n",
       "      <th>fasting blood sugar</th>\n",
       "      <th>Cholesterol</th>\n",
       "      <th>triglyceride</th>\n",
       "      <th>HDL</th>\n",
       "      <th>LDL</th>\n",
       "      <th>hemoglobin</th>\n",
       "      <th>Urine protein</th>\n",
       "      <th>serum creatinine</th>\n",
       "      <th>AST</th>\n",
       "      <th>ALT</th>\n",
       "      <th>Gtp</th>\n",
       "      <th>dental caries</th>\n",
       "    </tr>\n",
       "    <tr>\n",
       "      <th>smoking</th>\n",
       "      <th></th>\n",
       "      <th></th>\n",
       "      <th></th>\n",
       "      <th></th>\n",
       "      <th></th>\n",
       "      <th></th>\n",
       "      <th></th>\n",
       "      <th></th>\n",
       "      <th></th>\n",
       "      <th></th>\n",
       "      <th></th>\n",
       "      <th></th>\n",
       "      <th></th>\n",
       "      <th></th>\n",
       "      <th></th>\n",
       "      <th></th>\n",
       "      <th></th>\n",
       "      <th></th>\n",
       "      <th></th>\n",
       "      <th></th>\n",
       "      <th></th>\n",
       "      <th></th>\n",
       "    </tr>\n",
       "  </thead>\n",
       "  <tbody>\n",
       "    <tr>\n",
       "      <th>0</th>\n",
       "      <td>46.46</td>\n",
       "      <td>161.79</td>\n",
       "      <td>63.24</td>\n",
       "      <td>80.93</td>\n",
       "      <td>0.97</td>\n",
       "      <td>0.96</td>\n",
       "      <td>1.03</td>\n",
       "      <td>1.03</td>\n",
       "      <td>121.85</td>\n",
       "      <td>76.01</td>\n",
       "      <td>97.05</td>\n",
       "      <td>197.10</td>\n",
       "      <td>108.24</td>\n",
       "      <td>59.19</td>\n",
       "      <td>116.40</td>\n",
       "      <td>14.23</td>\n",
       "      <td>1.08</td>\n",
       "      <td>0.85</td>\n",
       "      <td>25.02</td>\n",
       "      <td>24.00</td>\n",
       "      <td>27.81</td>\n",
       "      <td>0.16</td>\n",
       "    </tr>\n",
       "    <tr>\n",
       "      <th>1</th>\n",
       "      <td>41.54</td>\n",
       "      <td>169.74</td>\n",
       "      <td>72.16</td>\n",
       "      <td>85.67</td>\n",
       "      <td>1.05</td>\n",
       "      <td>1.05</td>\n",
       "      <td>1.02</td>\n",
       "      <td>1.02</td>\n",
       "      <td>123.35</td>\n",
       "      <td>77.99</td>\n",
       "      <td>100.03</td>\n",
       "      <td>194.12</td>\n",
       "      <td>152.54</td>\n",
       "      <td>51.56</td>\n",
       "      <td>112.30</td>\n",
       "      <td>15.53</td>\n",
       "      <td>1.06</td>\n",
       "      <td>0.95</td>\n",
       "      <td>26.15</td>\n",
       "      <td>29.83</td>\n",
       "      <td>47.03</td>\n",
       "      <td>0.25</td>\n",
       "    </tr>\n",
       "  </tbody>\n",
       "</table>\n",
       "</div>"
      ],
      "text/plain": [
       "          age  height(cm)  weight(kg)  waist(cm)  eyesight(left)  eyesight(right)  hearing(left)  hearing(right)  systolic  relaxation  fasting blood sugar  Cholesterol  triglyceride   HDL    LDL  hemoglobin  Urine protein  serum creatinine   AST   ALT   Gtp  dental caries\n",
       "smoking                                                                                                                                                                                                                                                                          \n",
       "0       46.46      161.79       63.24      80.93            0.97             0.96           1.03            1.03    121.85       76.01                97.05       197.10        108.24 59.19 116.40       14.23           1.08              0.85 25.02 24.00 27.81           0.16\n",
       "1       41.54      169.74       72.16      85.67            1.05             1.05           1.02            1.02    123.35       77.99               100.03       194.12        152.54 51.56 112.30       15.53           1.06              0.95 26.15 29.83 47.03           0.25"
      ]
     },
     "execution_count": 14,
     "metadata": {},
     "output_type": "execute_result"
    }
   ],
   "source": [
    "train.groupby(\"smoking\")[columns].mean()"
   ]
  },
  {
   "cell_type": "markdown",
   "id": "4058f95e",
   "metadata": {
    "papermill": {
     "duration": 0.010591,
     "end_time": "2023-11-15T11:40:13.886123",
     "exception": false,
     "start_time": "2023-11-15T11:40:13.875532",
     "status": "completed"
    },
    "tags": []
   },
   "source": [
    "# **Modelling**"
   ]
  },
  {
   "cell_type": "markdown",
   "id": "b2afb0f9",
   "metadata": {
    "papermill": {
     "duration": 0.010617,
     "end_time": "2023-11-15T11:40:13.908128",
     "exception": false,
     "start_time": "2023-11-15T11:40:13.897511",
     "status": "completed"
    },
    "tags": []
   },
   "source": [
    "*Data Split*"
   ]
  },
  {
   "cell_type": "code",
   "execution_count": 15,
   "id": "ac1d4f0f",
   "metadata": {
    "execution": {
     "iopub.execute_input": "2023-11-15T11:40:13.932885Z",
     "iopub.status.busy": "2023-11-15T11:40:13.931524Z",
     "iopub.status.idle": "2023-11-15T11:40:13.945577Z",
     "shell.execute_reply": "2023-11-15T11:40:13.943703Z"
    },
    "papermill": {
     "duration": 0.02972,
     "end_time": "2023-11-15T11:40:13.948816",
     "exception": false,
     "start_time": "2023-11-15T11:40:13.919096",
     "status": "completed"
    },
    "tags": []
   },
   "outputs": [],
   "source": [
    "y = train[\"smoking\"]\n",
    "x = train.drop(\"smoking\", axis = 1)"
   ]
  },
  {
   "cell_type": "code",
   "execution_count": 16,
   "id": "c8a9fca8",
   "metadata": {
    "execution": {
     "iopub.execute_input": "2023-11-15T11:40:13.972216Z",
     "iopub.status.busy": "2023-11-15T11:40:13.971814Z",
     "iopub.status.idle": "2023-11-15T11:40:13.978691Z",
     "shell.execute_reply": "2023-11-15T11:40:13.977169Z"
    },
    "papermill": {
     "duration": 0.022119,
     "end_time": "2023-11-15T11:40:13.981924",
     "exception": false,
     "start_time": "2023-11-15T11:40:13.959805",
     "status": "completed"
    },
    "tags": []
   },
   "outputs": [
    {
     "name": "stdout",
     "output_type": "stream",
     "text": [
      "(159256, 22)\n",
      "(159256,)\n"
     ]
    }
   ],
   "source": [
    "print(x.shape)\n",
    "print(y.shape)"
   ]
  },
  {
   "cell_type": "code",
   "execution_count": 17,
   "id": "e9b9a275",
   "metadata": {
    "execution": {
     "iopub.execute_input": "2023-11-15T11:40:14.006917Z",
     "iopub.status.busy": "2023-11-15T11:40:14.006031Z",
     "iopub.status.idle": "2023-11-15T11:40:14.398313Z",
     "shell.execute_reply": "2023-11-15T11:40:14.396743Z"
    },
    "papermill": {
     "duration": 0.408706,
     "end_time": "2023-11-15T11:40:14.401705",
     "exception": false,
     "start_time": "2023-11-15T11:40:13.992999",
     "status": "completed"
    },
    "tags": []
   },
   "outputs": [],
   "source": [
    "from sklearn.model_selection import train_test_split\n",
    "\n",
    "x_train, x_test, y_train, y_test = train_test_split(x, y , test_size=0.20, random_state= 42)"
   ]
  },
  {
   "cell_type": "code",
   "execution_count": 18,
   "id": "0f69eaf5",
   "metadata": {
    "execution": {
     "iopub.execute_input": "2023-11-15T11:40:14.427686Z",
     "iopub.status.busy": "2023-11-15T11:40:14.427207Z",
     "iopub.status.idle": "2023-11-15T11:40:14.868059Z",
     "shell.execute_reply": "2023-11-15T11:40:14.866555Z"
    },
    "papermill": {
     "duration": 0.457331,
     "end_time": "2023-11-15T11:40:14.871165",
     "exception": false,
     "start_time": "2023-11-15T11:40:14.413834",
     "status": "completed"
    },
    "tags": []
   },
   "outputs": [],
   "source": [
    "from sklearn.linear_model import LogisticRegression\n",
    "from sklearn.svm import LinearSVC\n",
    "from sklearn.tree import DecisionTreeClassifier\n",
    "from sklearn.ensemble import RandomForestClassifier\n",
    "from sklearn.naive_bayes import GaussianNB\n",
    "from sklearn.neighbors import KNeighborsClassifier"
   ]
  },
  {
   "cell_type": "code",
   "execution_count": 19,
   "id": "62d72c84",
   "metadata": {
    "execution": {
     "iopub.execute_input": "2023-11-15T11:40:14.896379Z",
     "iopub.status.busy": "2023-11-15T11:40:14.895933Z",
     "iopub.status.idle": "2023-11-15T11:40:14.902919Z",
     "shell.execute_reply": "2023-11-15T11:40:14.901147Z"
    },
    "papermill": {
     "duration": 0.022505,
     "end_time": "2023-11-15T11:40:14.905534",
     "exception": false,
     "start_time": "2023-11-15T11:40:14.883029",
     "status": "completed"
    },
    "tags": []
   },
   "outputs": [],
   "source": [
    "models = {\n",
    "    'Logistic Regression' : LogisticRegression(),\n",
    "    'Support Vector Machines' : LinearSVC(),\n",
    "    'Decision Trees' : DecisionTreeClassifier(),\n",
    "    'Random Forest' : RandomForestClassifier(),\n",
    "    'Naive Bayes' : GaussianNB(),\n",
    "    'K-Nearest Neighbor' : KNeighborsClassifier()\n",
    "}"
   ]
  },
  {
   "cell_type": "code",
   "execution_count": 20,
   "id": "35f28ba9",
   "metadata": {
    "execution": {
     "iopub.execute_input": "2023-11-15T11:40:14.930434Z",
     "iopub.status.busy": "2023-11-15T11:40:14.930018Z",
     "iopub.status.idle": "2023-11-15T11:42:09.236457Z",
     "shell.execute_reply": "2023-11-15T11:42:09.235157Z"
    },
    "papermill": {
     "duration": 114.322721,
     "end_time": "2023-11-15T11:42:09.239683",
     "exception": false,
     "start_time": "2023-11-15T11:40:14.916962",
     "status": "completed"
    },
    "tags": []
   },
   "outputs": [
    {
     "name": "stderr",
     "output_type": "stream",
     "text": [
      "/opt/conda/lib/python3.10/site-packages/sklearn/linear_model/_logistic.py:458: ConvergenceWarning: lbfgs failed to converge (status=1):\n",
      "STOP: TOTAL NO. of ITERATIONS REACHED LIMIT.\n",
      "\n",
      "Increase the number of iterations (max_iter) or scale the data as shown in:\n",
      "    https://scikit-learn.org/stable/modules/preprocessing.html\n",
      "Please also refer to the documentation for alternative solver options:\n",
      "    https://scikit-learn.org/stable/modules/linear_model.html#logistic-regression\n",
      "  n_iter_i = _check_optimize_result(\n",
      "/opt/conda/lib/python3.10/site-packages/sklearn/svm/_base.py:1244: ConvergenceWarning: Liblinear failed to converge, increase the number of iterations.\n",
      "  warnings.warn(\n"
     ]
    }
   ],
   "source": [
    "from sklearn.metrics import accuracy_score, precision_score, recall_score\n",
    "accuracy, precision, recall = {}, {}, {}\n",
    "\n",
    "for key in models.keys():\n",
    "    \n",
    "    # Fit the classifier\n",
    "    models[key].fit(x_train, y_train)\n",
    "    \n",
    "    # Make predictions\n",
    "    predictions = models[key].predict(x_test)\n",
    "    \n",
    "    # Calculate metrics\n",
    "    accuracy[key] = accuracy_score(predictions, y_test)\n",
    "    precision[key] = precision_score(predictions, y_test)\n",
    "    recall[key] = recall_score(predictions, y_test)"
   ]
  },
  {
   "cell_type": "code",
   "execution_count": 21,
   "id": "9c31e7d5",
   "metadata": {
    "execution": {
     "iopub.execute_input": "2023-11-15T11:42:09.265781Z",
     "iopub.status.busy": "2023-11-15T11:42:09.265323Z",
     "iopub.status.idle": "2023-11-15T11:42:09.282606Z",
     "shell.execute_reply": "2023-11-15T11:42:09.281277Z"
    },
    "papermill": {
     "duration": 0.034736,
     "end_time": "2023-11-15T11:42:09.286596",
     "exception": false,
     "start_time": "2023-11-15T11:42:09.251860",
     "status": "completed"
    },
    "tags": []
   },
   "outputs": [
    {
     "data": {
      "text/html": [
       "<div>\n",
       "<style scoped>\n",
       "    .dataframe tbody tr th:only-of-type {\n",
       "        vertical-align: middle;\n",
       "    }\n",
       "\n",
       "    .dataframe tbody tr th {\n",
       "        vertical-align: top;\n",
       "    }\n",
       "\n",
       "    .dataframe thead th {\n",
       "        text-align: right;\n",
       "    }\n",
       "</style>\n",
       "<table border=\"1\" class=\"dataframe\">\n",
       "  <thead>\n",
       "    <tr style=\"text-align: right;\">\n",
       "      <th></th>\n",
       "      <th>Accuracy</th>\n",
       "      <th>Precision</th>\n",
       "      <th>Recall</th>\n",
       "    </tr>\n",
       "  </thead>\n",
       "  <tbody>\n",
       "    <tr>\n",
       "      <th>Logistic Regression</th>\n",
       "      <td>0.74</td>\n",
       "      <td>0.70</td>\n",
       "      <td>0.70</td>\n",
       "    </tr>\n",
       "    <tr>\n",
       "      <th>Support Vector Machines</th>\n",
       "      <td>0.68</td>\n",
       "      <td>0.97</td>\n",
       "      <td>0.58</td>\n",
       "    </tr>\n",
       "    <tr>\n",
       "      <th>Decision Trees</th>\n",
       "      <td>0.70</td>\n",
       "      <td>0.65</td>\n",
       "      <td>0.66</td>\n",
       "    </tr>\n",
       "    <tr>\n",
       "      <th>Random Forest</th>\n",
       "      <td>0.77</td>\n",
       "      <td>0.80</td>\n",
       "      <td>0.72</td>\n",
       "    </tr>\n",
       "    <tr>\n",
       "      <th>Naive Bayes</th>\n",
       "      <td>0.72</td>\n",
       "      <td>0.78</td>\n",
       "      <td>0.66</td>\n",
       "    </tr>\n",
       "    <tr>\n",
       "      <th>K-Nearest Neighbor</th>\n",
       "      <td>0.72</td>\n",
       "      <td>0.70</td>\n",
       "      <td>0.67</td>\n",
       "    </tr>\n",
       "  </tbody>\n",
       "</table>\n",
       "</div>"
      ],
      "text/plain": [
       "                         Accuracy  Precision  Recall\n",
       "Logistic Regression          0.74       0.70    0.70\n",
       "Support Vector Machines      0.68       0.97    0.58\n",
       "Decision Trees               0.70       0.65    0.66\n",
       "Random Forest                0.77       0.80    0.72\n",
       "Naive Bayes                  0.72       0.78    0.66\n",
       "K-Nearest Neighbor           0.72       0.70    0.67"
      ]
     },
     "execution_count": 21,
     "metadata": {},
     "output_type": "execute_result"
    }
   ],
   "source": [
    "df_model = pd.DataFrame(index=models.keys(), columns=['Accuracy', 'Precision', 'Recall'])\n",
    "df_model['Accuracy'] = accuracy.values()\n",
    "df_model['Precision'] = precision.values()\n",
    "df_model['Recall'] = recall.values()\n",
    "\n",
    "df_model"
   ]
  }
 ],
 "metadata": {
  "kaggle": {
   "accelerator": "none",
   "dataSources": [
    {
     "databundleVersionId": 6622892,
     "sourceId": 60891,
     "sourceType": "competition"
    }
   ],
   "dockerImageVersionId": 30558,
   "isGpuEnabled": false,
   "isInternetEnabled": true,
   "language": "python",
   "sourceType": "notebook"
  },
  "kernelspec": {
   "display_name": "Python 3",
   "language": "python",
   "name": "python3"
  },
  "language_info": {
   "codemirror_mode": {
    "name": "ipython",
    "version": 3
   },
   "file_extension": ".py",
   "mimetype": "text/x-python",
   "name": "python",
   "nbconvert_exporter": "python",
   "pygments_lexer": "ipython3",
   "version": "3.10.12"
  },
  "papermill": {
   "default_parameters": {},
   "duration": 126.265083,
   "end_time": "2023-11-15T11:42:10.022033",
   "environment_variables": {},
   "exception": null,
   "input_path": "__notebook__.ipynb",
   "output_path": "__notebook__.ipynb",
   "parameters": {},
   "start_time": "2023-11-15T11:40:03.756950",
   "version": "2.4.0"
  }
 },
 "nbformat": 4,
 "nbformat_minor": 5
}
